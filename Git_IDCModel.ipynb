{
  "cells": [
    {
      "cell_type": "markdown",
      "metadata": {
        "id": "view-in-github",
        "colab_type": "text"
      },
      "source": [
        "<a href=\"https://colab.research.google.com/github/yamenetoo/Artificial-Neural-Network-Analysis-Using-Statistical-Approaches/blob/main/Git_IDCModel.ipynb\" target=\"_parent\"><img src=\"https://colab.research.google.com/assets/colab-badge.svg\" alt=\"Open In Colab\"/></a>"
      ]
    },
    {
      "cell_type": "markdown",
      "metadata": {
        "id": "gQzIKdzoifob"
      },
      "source": [
        "#Prepaer data\n"
      ]
    },
    {
      "cell_type": "code",
      "execution_count": null,
      "metadata": {
        "id": "ahnzYeXXAvlS"
      },
      "outputs": [],
      "source": [
        "import os\n",
        "import shutil\n",
        "import subprocess\n",
        "\n",
        "file_path = \"/content/drive/MyDrive/kaggle.json\"\n",
        "kaggle_dir = os.path.expanduser(\"~/.kaggle\")\n",
        "\n",
        "os.makedirs(kaggle_dir, exist_ok=True)\n",
        "shutil.copy(file_path, os.path.join(kaggle_dir, \"kaggle.json\"))\n",
        "\n",
        "subprocess.run([\"ls\", \"-lha\", os.path.join(kaggle_dir, \"kaggle.json\")])\n",
        "subprocess.run([\"pip\", \"install\", \"-q\", \"kaggle\"])\n",
        "subprocess.run([\"kaggle\", \"datasets\", \"download\", \"-d\", \"paultimothymooney/breast-histopathology-images\"])\n",
        "\n",
        "os.makedirs(\"/content/data\", exist_ok=True)\n",
        "subprocess.run([\"unzip\", \"/content/breast-histopathology-images.zip\", \"-d\", \"/content/data\"])"
      ]
    },
    {
      "cell_type": "code",
      "execution_count": null,
      "metadata": {
        "id": "E_ET4s_yvfb9"
      },
      "outputs": [],
      "source": [
        "import warnings\n",
        "warnings.filterwarnings(\"ignore\", category=UserWarning)\n",
        "warnings.filterwarnings(\"ignore\", category=FutureWarning)\n",
        "\n",
        "import numpy as np\n",
        "import matplotlib.pyplot as plt\n",
        "import seaborn as sns\n",
        "import cv2\n",
        "import glob\n",
        "import random\n",
        "from os import listdir\n",
        "from sklearn.metrics import classification_report\n",
        "from tensorflow.keras.models import Sequential\n",
        "from tensorflow.keras.layers import Dense, Conv2D, MaxPooling2D, Flatten, Dropout, BatchNormalization\n",
        "from tensorflow.keras.optimizers import SGD\n",
        "import pandas as pd\n",
        "\n",
        "breast_img = glob.glob('/content/data/IDC_regular_ps50_idx5/**/*.png', recursive=True)\n",
        "df = pd.DataFrame(breast_img, columns=['image_path'])\n",
        "df.to_csv(\"/content/datapath.csv\", index=False)\n",
        "\n",
        "N_IDC = [img for img in breast_img if img[-5] == '0']\n",
        "P_IDC = [img for img in breast_img if img[-5] == '1']\n",
        "\n",
        "X, Y = [], []\n",
        "\n",
        "for img in N_IDC:\n",
        "    print(\"N_IDC\", img)\n",
        "    n_img = cv2.imread(img, cv2.IMREAD_COLOR)\n",
        "    n_img_size = cv2.resize(n_img, (50, 50), interpolation=cv2.INTER_LINEAR)\n",
        "    X.append(n_img_size)\n",
        "    Y.append(0)\n",
        "\n",
        "for img in P_IDC:\n",
        "    print(\"P_IDC\", img)\n",
        "    c_img = cv2.imread(img, cv2.IMREAD_COLOR)\n",
        "    c_img_size = cv2.resize(c_img, (50, 50), interpolation=cv2.INTER_LINEAR)\n",
        "    X.append(c_img_size)\n",
        "    Y.append(1)\n"
      ]
    },
    {
      "cell_type": "code",
      "execution_count": null,
      "metadata": {
        "id": "ds8WwhRqwQZr"
      },
      "outputs": [],
      "source": [
        "import numpy as np\n",
        "import pickle\n",
        "\n",
        "X = np.array(X)\n",
        "y = np.array(Y)\n",
        "\n",
        "unique_labels, counts = np.unique(y, return_counts=True)\n",
        "print(f'Total number of images: {len(X)}')\n",
        "print(f'Number of IDC(-) Images: {counts[np.where(unique_labels == 0)][0]}')\n",
        "print(f'Number of IDC(+) Images: {counts[np.where(unique_labels == 1)][0]}')\n",
        "print(f'Image shape (Width, Height, Channels): {X[0].shape}')\n",
        "\n",
        "data = {'X': X, 'Y': y}\n",
        "with open('/content/drive/MyDrive/XY.pickle', 'wb') as handle:\n",
        "    pickle.dump(data, handle, protocol=pickle.HIGHEST_PROTOCOL)\n"
      ]
    },
    {
      "cell_type": "markdown",
      "metadata": {
        "id": "UaCC70diN5MV"
      },
      "source": [
        "#models"
      ]
    },
    {
      "cell_type": "code",
      "source": [
        "import numpy as np\n",
        "import pandas as pd\n",
        "from sklearn.metrics import classification_report, confusion_matrix\n",
        "import seaborn as sns\n",
        "import matplotlib.pyplot as plt\n",
        "\n",
        "def val(Y_test, pre):\n",
        "    target_names = ['negative', 'positive']\n",
        "    report = classification_report(Y_test.argmax(1), pre, target_names=target_names, output_dict=True)\n",
        "    df = pd.DataFrame(report).transpose()\n",
        "    print(report)\n",
        "\n",
        "    confusion = confusion_matrix(Y_test.argmax(1), pre)\n",
        "\n",
        "    plt.figure(figsize=(8, 6))\n",
        "    ax = plt.subplot()\n",
        "    sns.heatmap(confusion, annot=True, cmap='Blues', fmt=\".0f\", xticklabels=target_names, yticklabels=target_names)\n",
        "    ax.set_xlabel('Predicted labels')\n",
        "    ax.set_ylabel('True labels')\n",
        "    ax.set_title('Confusion Matrix')\n",
        "    plt.show()\n",
        "\n",
        "\n",
        "\n",
        "# pre=model.predict(X_test)\n",
        "# pre=pre.argmax(1)\n",
        "# len(pre)"
      ],
      "metadata": {
        "id": "494FpPGKPv05"
      },
      "execution_count": null,
      "outputs": []
    },
    {
      "cell_type": "markdown",
      "metadata": {
        "id": "jy3WEJsKPT4X"
      },
      "source": [
        "##import data"
      ]
    },
    {
      "cell_type": "code",
      "execution_count": null,
      "metadata": {
        "id": "4l6nidd1K4RL"
      },
      "outputs": [],
      "source": [
        "import warnings\n",
        "warnings.filterwarnings(\"ignore\", category=UserWarning)\n",
        "warnings.filterwarnings(\"ignore\", category=FutureWarning)\n",
        "\n",
        "import numpy as np\n",
        "import pandas as pd\n",
        "import matplotlib.pyplot as plt\n",
        "import seaborn as sns\n",
        "import cv2\n",
        "import glob\n",
        "import random\n",
        "from os import listdir\n",
        "from sklearn.metrics import classification_report, confusion_matrix\n",
        "from sklearn.linear_model import LogisticRegression\n",
        "from sklearn.model_selection import train_test_split\n",
        "from sklearn.decomposition import PCA\n",
        "from tensorflow.keras.models import Sequential\n",
        "from tensorflow.keras.layers import Dense, Conv2D, MaxPooling2D, Flatten, Dropout, BatchNormalization\n",
        "from tensorflow.keras.optimizers import Adam, SGD\n",
        "from tensorflow.keras.callbacks import EarlyStopping\n",
        "from tensorflow.keras.utils import to_categorical\n",
        "import tensorflow as tf\n",
        "import pickle\n",
        "from gc import collect\n",
        "\n",
        "tf.keras.backend.clear_session()\n",
        "\n",
        "# Load data (deserialize)\n",
        "with open('/content/drive/MyDrive/XY.pickle', 'rb') as handle:\n",
        "    unserialized_data = pickle.load(handle)\n",
        "\n",
        "X = unserialized_data[\"X\"]\n",
        "y = unserialized_data[\"Y\"]\n",
        "print(np.unique(y, return_counts=True))\n",
        "\n",
        "del unserialized_data\n",
        "collect()\n",
        "\n",
        "X_train, X_test, Y_train, Y_test = train_test_split(X, y, test_size=0.2, random_state=10)\n",
        "Y_train = to_categorical(Y_train, num_classes=2)\n",
        "Y_test = to_categorical(Y_test, num_classes=2)\n"
      ]
    },
    {
      "cell_type": "markdown",
      "metadata": {
        "id": "W08Dqji1POIy"
      },
      "source": [
        "##Deep CNN"
      ]
    },
    {
      "cell_type": "code",
      "source": [
        "\n",
        "def create_model(input_shape=(50, 50, 3), learning_rate=0.0001):\n",
        "    model = Sequential()\n",
        "    model.add(Conv2D(32, (3, 3), activation='relu', kernel_initializer='he_uniform', padding='same', input_shape=input_shape))\n",
        "    model.add(BatchNormalization())\n",
        "    model.add(Conv2D(32, (3, 3), activation='relu', kernel_initializer='he_uniform', padding='same'))\n",
        "    model.add(MaxPooling2D((2, 2)))\n",
        "    model.add(BatchNormalization())\n",
        "    model.add(Dropout(0.3))\n",
        "\n",
        "    model.add(Conv2D(64, (3, 3), activation='relu', kernel_initializer='he_uniform', padding='same'))\n",
        "    model.add(BatchNormalization())\n",
        "    model.add(Conv2D(64, (3, 3), activation='relu', kernel_initializer='he_uniform', padding='same'))\n",
        "    model.add(BatchNormalization())\n",
        "    model.add(MaxPooling2D((2, 2)))\n",
        "    model.add(Dropout(0.3))\n",
        "\n",
        "    model.add(Conv2D(128, (3, 3), activation='relu', kernel_initializer='he_uniform', padding='same'))\n",
        "    model.add(Flatten(name='flatt'))\n",
        "\n",
        "    model.add(Dense(128, activation='relu', kernel_initializer='he_uniform', name='fc1'))\n",
        "    model.add(BatchNormalization())\n",
        "    model.add(Dense(64, activation='relu', kernel_initializer='he_uniform', name='fc2'))\n",
        "    model.add(BatchNormalization())\n",
        "    model.add(Dense(64, activation='relu', kernel_initializer='he_uniform', name='fc3'))\n",
        "    model.add(Dropout(0.3))\n",
        "\n",
        "    model.add(Dense(24, activation='relu', kernel_initializer='he_uniform', name='fc'))\n",
        "    model.add(Dense(2, activation='softmax'))\n",
        "\n",
        "    model.compile(optimizer=Adam(learning_rate=learning_rate), loss='binary_crossentropy', metrics=['accuracy'])\n",
        "\n",
        "    return model\n",
        "\n",
        "model = create_model()\n",
        "history = model.fit(X_train, Y_train, validation_data = (X_test, Y_test), epochs = 40)\n",
        "os.mkdir('/content/drive/MyDrive/DCI/models')\n",
        "model.save('/content/drive/MyDrive/DCI/models/myModel', overwrite=True, save_format=None)"
      ],
      "metadata": {
        "id": "UU6RDtPO27qU"
      },
      "execution_count": null,
      "outputs": []
    },
    {
      "cell_type": "markdown",
      "metadata": {
        "id": "AkPUK8N9FJT9"
      },
      "source": [
        "###load model"
      ]
    },
    {
      "cell_type": "code",
      "execution_count": null,
      "metadata": {
        "id": "je2MCxUjELbe"
      },
      "outputs": [],
      "source": [
        "from tensorflow.keras.models import load_model\n",
        "model = load_model('/content/drive/MyDrive/DCI/models/myModel')"
      ]
    },
    {
      "cell_type": "markdown",
      "metadata": {
        "id": "9kQB6ZmrQTWS"
      },
      "source": [
        "###CNN Evaluate"
      ]
    },
    {
      "cell_type": "code",
      "source": [
        "test_res=model.evaluate(X_test, Y_test,verbose=0)\n",
        "print(\"here we can see that the loss of this model is {} , and the accuracy is {} \".format(test_res[0],test_res[1]))\n",
        "plt.plot(history.history['accuracy'])\n",
        "plt.plot(history.history['val_accuracy'])\n",
        "plt.title('model accuracy')\n",
        "plt.ylabel('accuracy')\n",
        "plt.xlabel('epoch')\n",
        "plt.legend(['train', 'test'], loc='upper left')\n",
        "plt.show()\n",
        "# summarize history for loss\n",
        "plt.plot(history.history['loss'])\n",
        "plt.plot(history.history['val_loss'])\n",
        "plt.title('model loss')\n",
        "plt.ylabel('loss')\n",
        "plt.xlabel('epoch')\n",
        "plt.legend(['train', 'test'], loc='upper left')\n",
        "plt.show()"
      ],
      "metadata": {
        "id": "lO2AHV9m-W9h"
      },
      "execution_count": null,
      "outputs": []
    },
    {
      "cell_type": "code",
      "execution_count": null,
      "metadata": {
        "colab": {
          "base_uri": "https://localhost:8080/"
        },
        "id": "M1kaLLCZOJcV",
        "outputId": "978b9eed-913e-49c0-b5a2-7779d6e2241b"
      },
      "outputs": [
        {
          "name": "stdout",
          "output_type": "stream",
          "text": [
            "1735/1735 [==============================] - 248s 143ms/step\n"
          ]
        },
        {
          "data": {
            "text/plain": [
              "55505"
            ]
          },
          "execution_count": 8,
          "metadata": {},
          "output_type": "execute_result"
        }
      ],
      "source": [
        "\n",
        "pre=model.predict(X_test)\n",
        "pre=pre.argmax(1)\n",
        "len(pre)"
      ]
    },
    {
      "cell_type": "code",
      "execution_count": null,
      "metadata": {
        "colab": {
          "base_uri": "https://localhost:8080/"
        },
        "id": "kaxd-fd922rN",
        "outputId": "860b4924-dac0-4441-a617-5b1ce731f793"
      },
      "outputs": [
        {
          "data": {
            "text/plain": [
              "1604"
            ]
          },
          "execution_count": 9,
          "metadata": {},
          "output_type": "execute_result"
        }
      ],
      "source": [
        "\"del unserialized_data\"\n",
        "del(X)\n",
        "from gc import collect\n",
        "collect ()"
      ]
    },
    {
      "cell_type": "code",
      "execution_count": null,
      "metadata": {
        "colab": {
          "base_uri": "https://localhost:8080/"
        },
        "id": "JlCy_5k8OZ96",
        "outputId": "6ae90db6-2416-498e-e032-fee57a9464cf"
      },
      "outputs": [
        {
          "name": "stdout",
          "output_type": "stream",
          "text": [
            "              precision    recall  f1-score   support\n",
            "\n",
            "    negative       0.94      0.90      0.92     39719\n",
            "    positive       0.77      0.84      0.81     15786\n",
            "\n",
            "    accuracy                           0.89     55505\n",
            "   macro avg       0.85      0.87      0.86     55505\n",
            "weighted avg       0.89      0.89      0.89     55505\n",
            "\n"
          ]
        }
      ],
      "source": [
        "import numpy as np\n",
        "from sklearn.metrics import classification_report\n",
        "target_names = ['negative', 'positive']\n",
        "report=classification_report(Y_test.argmax(1),pre, target_names=target_names,output_dict=True)\n",
        "df = pd.DataFrame(report).transpose()\n",
        "print(classification_report(Y_test.argmax(1),pre,target_names=target_names))\n"
      ]
    },
    {
      "cell_type": "code",
      "execution_count": null,
      "metadata": {
        "colab": {
          "base_uri": "https://localhost:8080/",
          "height": 472
        },
        "id": "WfKDeXWzPq_D",
        "outputId": "0070b272-c131-449b-faa7-3569e8d424ba"
      },
      "outputs": [
        {
          "data": {
            "image/png": "[encoded data removed]",
            "text/plain": [
              "<Figure size 640x480 with 2 Axes>"
            ]
          },
          "metadata": {},
          "output_type": "display_data"
        }
      ],
      "source": [
        "import seaborn as sns\n",
        "ax= plt.subplot()\n",
        "sns.heatmap(confusion_matrix(Y_test.argmax(1),pre), annot=True, cmap='Blues',fmt=\".0f\")\n",
        "\n",
        "ax.set_xlabel('Predicted labels');ax.set_ylabel('True labels');\n",
        "ax.set_title('Confusion Matrix');\n",
        "ax.xaxis.set_ticklabels(['negative', 'positive']); ax.yaxis.set_ticklabels(['negative', 'positive']);"
      ]
    },
    {
      "cell_type": "markdown",
      "metadata": {
        "id": "SYjUmfZTHXIv"
      },
      "source": [
        "#LR model"
      ]
    },
    {
      "cell_type": "code",
      "source": [
        "from tensorflow.keras.models import load_model\n",
        "model = load_model('/content/drive/MyDrive/DCI/models/myModel')"
      ],
      "metadata": {
        "id": "5N8DvTT7OgIL"
      },
      "execution_count": null,
      "outputs": []
    },
    {
      "cell_type": "code",
      "execution_count": null,
      "metadata": {
        "id": "YarkG1yaHmKT"
      },
      "outputs": [],
      "source": [
        "# Load data (deserialize)\n",
        "import pickle\n",
        "with open('/content/drive/MyDrive/DCI/XY.pickle', 'rb') as handle:\n",
        "    unserialized_data = pickle.load(handle)"
      ]
    },
    {
      "cell_type": "code",
      "execution_count": null,
      "metadata": {
        "colab": {
          "base_uri": "https://localhost:8080/"
        },
        "id": "7pDuYTLfHmKT",
        "outputId": "2b39ce65-7766-4085-f0f2-2cf8f878d9a6"
      },
      "outputs": [
        {
          "output_type": "execute_result",
          "data": {
            "text/plain": [
              "(array([0, 1]), array([198738,  78786]))"
            ]
          },
          "metadata": {},
          "execution_count": 4
        }
      ],
      "source": [
        "X=unserialized_data[\"X\"]\n",
        "y=unserialized_data[\"Y\"]\n",
        "np.unique(y,return_counts=True)"
      ]
    },
    {
      "cell_type": "code",
      "execution_count": null,
      "metadata": {
        "colab": {
          "base_uri": "https://localhost:8080/"
        },
        "id": "vnSvFVbjHmKU",
        "outputId": "9c41dabb-1f79-4eca-ff4c-6b1779b3b617"
      },
      "outputs": [
        {
          "output_type": "execute_result",
          "data": {
            "text/plain": [
              "0"
            ]
          },
          "metadata": {},
          "execution_count": 5
        }
      ],
      "source": [
        "del(unserialized_data)\n",
        "from gc import collect\n",
        "collect()"
      ]
    },
    {
      "cell_type": "code",
      "execution_count": null,
      "metadata": {
        "id": "b6_g-ew_HdIs"
      },
      "outputs": [],
      "source": [
        "from keras.models import Model\n",
        "layer_name = 'fc'\n",
        "intermediate_layer_model = Model(inputs=model.input,outputs=model.get_layer(layer_name).output)\n",
        "intermediate_output = intermediate_layer_model.predict(X,verbose=0)\n",
        "new_X=intermediate_output"
      ]
    },
    {
      "cell_type": "code",
      "execution_count": null,
      "metadata": {
        "colab": {
          "base_uri": "https://localhost:8080/"
        },
        "id": "nGtUa0QwBf7E",
        "outputId": "ab532f65-e520-4928-cc47-c948b33f064a"
      },
      "outputs": [
        {
          "output_type": "stream",
          "name": "stdout",
          "text": [
            "the new shape of data is (277524, 24)\n"
          ]
        }
      ],
      "source": [
        "print(\"the new shape of data is {}\".format(new_X.shape))"
      ]
    },
    {
      "cell_type": "code",
      "execution_count": null,
      "metadata": {
        "colab": {
          "background_save": true
        },
        "id": "ajdo6SMvLj5P",
        "outputId": "80c6f812-7ee3-4298-a41d-d7f6a7d17390"
      },
      "outputs": [
        {
          "data": {
            "text/plain": [
              "Text(0.5, 0, 'neurons')"
            ]
          },
          "execution_count": 19,
          "metadata": {},
          "output_type": "execute_result"
        },
        {
          "data": {
            "image/png": "[encoded data removed]",
            "text/plain": [
              "<Figure size 640x480 with 1 Axes>"
            ]
          },
          "metadata": {},
          "output_type": "display_data"
        }
      ],
      "source": [
        "_=plt.boxplot(new_X)\n",
        "plt.ylabel('output')\n",
        "plt.xlabel('neurons')"
      ]
    },
    {
      "cell_type": "markdown",
      "metadata": {
        "id": "UIm2tBh5Og3Y"
      },
      "source": [
        "## convert output to csv file"
      ]
    },
    {
      "cell_type": "code",
      "execution_count": null,
      "metadata": {
        "id": "c0W07FciNVSH"
      },
      "outputs": [],
      "source": [
        "df=pd.DataFrame(new_X)\n",
        "df.colnms=[\"X_{}\".format(i) for i in range(1,25)]\n",
        "df[\"y\"]=y\n",
        "df=df[pd.notnull(df)]\n",
        "\n",
        "df.to_csv(\"res_of_cnn_output.csv\")"
      ]
    },
    {
      "cell_type": "markdown",
      "metadata": {
        "id": "rKXJ8vHhIL_O"
      },
      "source": [
        "#pca model"
      ]
    },
    {
      "cell_type": "code",
      "execution_count": null,
      "metadata": {
        "id": "ieCSv-hSC72r"
      },
      "outputs": [],
      "source": [
        "from keras.metrics.accuracy_metrics import accuracy\n",
        "def get_pca(n_components,X):\n",
        "  pca = PCA(n_components)\n",
        "  pca.fit(new_X)\n",
        "  print(\"the explanined variance of {} components is {}\".format(n_components,pca.explained_variance_ratio_.sum()))\n",
        "  pca_X=pca.transform(new_X)\n",
        "  return([pca_X,pca.explained_variance_ratio_.sum()])\n",
        "\n",
        "def pca_LR(n_components,X):\n",
        "  pca_X,exp_var=get_pca(n_components,X)\n",
        "  X_train, X_test, Y_train, Y_test = train_test_split(pca_X, y, test_size=0.2,random_state=10)\n",
        "  clf = LogisticRegression(random_state=0).fit(X_train, Y_train)\n",
        "  pre=clf.predict(X_test)\n",
        "  accuracy=clf.score(X_test,Y_test)\n",
        "  print(\"the accuracy of LR model with {} components is {},\".format(n_components,accuracy ))\n",
        "  return([accuracy,exp_var])\n",
        "\n"
      ]
    },
    {
      "cell_type": "code",
      "execution_count": null,
      "metadata": {
        "id": "kuOU1k69FPLN"
      },
      "outputs": [],
      "source": [
        "acc_dic={  \"n_components\":[],\n",
        "           \"accuracy\":[],\n",
        "           \"explanined_variance\":[]\n",
        "         }\n",
        "for n_components in range(1,24):\n",
        "\n",
        "  print(\"nunber of components=\",n_components)\n",
        "  acc_dic[\"n_components\"].append(n_components)\n",
        "  res=pca_LR(n_components,new_X)\n",
        "  acc_dic[\"accuracy\"].append(res[0])\n",
        "  acc_dic[\"explanined_variance\"].append(res[1])\n",
        "  print(\"*\"*75)"
      ]
    },
    {
      "cell_type": "code",
      "execution_count": null,
      "metadata": {
        "colab": {
          "base_uri": "https://localhost:8080/"
        },
        "id": "8SiUMtvaJBH8",
        "outputId": "3e31791d-c8a4-4c6a-b466-f08a3520916e"
      },
      "outputs": [
        {
          "name": "stdout",
          "output_type": "stream",
          "text": [
            "the explanined variance of 6 components is 0.9659927088504207\n"
          ]
        }
      ],
      "source": [
        "pca_X,_=get_pca(6,new_X)\n",
        "pca_X.shape"
      ]
    },
    {
      "cell_type": "code",
      "execution_count": null,
      "metadata": {
        "colab": {
          "base_uri": "https://localhost:8080/"
        },
        "id": "1H2Ga1XnJrAm",
        "outputId": "4a69538c-f017-43f8-a4fc-0cd16ed8ce2d"
      },
      "outputs": [
        {
          "data": {
            "text/plain": [
              "1069"
            ]
          },
          "execution_count": 41,
          "metadata": {},
          "output_type": "execute_result"
        }
      ],
      "source": [
        "X_train, X_test, Y_train, Y_test = train_test_split(pca_X, y, test_size=0.2,random_state=10)\n",
        "del(X);collect()"
      ]
    },
    {
      "cell_type": "code",
      "execution_count": null,
      "metadata": {
        "colab": {
          "base_uri": "https://localhost:8080/"
        },
        "id": "qi3xoV04JrIs",
        "outputId": "75f04845-70c7-4589-e8b0-fa1d1e9f8fda"
      },
      "outputs": [
        {
          "data": {
            "text/plain": [
              "({0: 0.6980895364704847, 1: 1.7620555555555555},)"
            ]
          },
          "execution_count": 44,
          "metadata": {},
          "output_type": "execute_result"
        }
      ],
      "source": [
        "from sklearn.utils.class_weight import compute_class_weight\n",
        "class_weights = compute_class_weight(class_weight = \"balanced\",classes = np.unique(Y_train),y = Y_train)\n",
        "class_weights = dict(zip(np.unique(Y_train), class_weights)),\n",
        "class_weights"
      ]
    },
    {
      "cell_type": "code",
      "execution_count": null,
      "metadata": {
        "colab": {
          "base_uri": "https://localhost:8080/"
        },
        "id": "eTT2I0c7LM8-",
        "outputId": "0e4357ff-09f3-4446-f6bf-3e624733cf9c"
      },
      "outputs": [
        {
          "data": {
            "text/plain": [
              "0.8886046302134942"
            ]
          },
          "execution_count": 50,
          "metadata": {},
          "output_type": "execute_result"
        }
      ],
      "source": [
        "clf = LogisticRegression(random_state=0).fit(X_train, Y_train)\n",
        "pre=clf.predict(X_test)\n",
        "accuracy=clf.score(X_test,Y_test)\n",
        "accuracy"
      ]
    },
    {
      "cell_type": "code",
      "execution_count": null,
      "metadata": {
        "colab": {
          "base_uri": "https://localhost:8080/"
        },
        "id": "cv_AF45dUbN7",
        "outputId": "6162d206-e850-4077-8088-fec83c4b1f55"
      },
      "outputs": [
        {
          "name": "stdout",
          "output_type": "stream",
          "text": [
            "              precision    recall  f1-score   support\n",
            "\n",
            "    negative       0.92      0.92      0.92     39719\n",
            "    positive       0.80      0.81      0.81     15786\n",
            "\n",
            "    accuracy                           0.89     55505\n",
            "   macro avg       0.86      0.87      0.86     55505\n",
            "weighted avg       0.89      0.89      0.89     55505\n",
            "\n"
          ]
        }
      ],
      "source": [
        "import numpy as np\n",
        "from sklearn.metrics import classification_report\n",
        "target_names = ['negative', 'positive']\n",
        "report=classification_report(Y_test,pre, target_names=target_names,output_dict=True)\n",
        "df = pd.DataFrame(report).transpose()\n",
        "print(classification_report(Y_test,pre, target_names=target_names))\n",
        "df.to_csv(\"LRmodel.csv\")"
      ]
    },
    {
      "cell_type": "code",
      "execution_count": null,
      "metadata": {
        "colab": {
          "base_uri": "https://localhost:8080/",
          "height": 472
        },
        "id": "i0odEVYAUufV",
        "outputId": "6be5765c-e302-406a-9af9-05862f82d48b"
      },
      "outputs": [
        {
          "data": {
            "image/png": "[encoded data removed]",
            "text/plain": [
              "<Figure size 640x480 with 2 Axes>"
            ]
          },
          "metadata": {},
          "output_type": "display_data"
        }
      ],
      "source": [
        "import seaborn as sns\n",
        "ax= plt.subplot()\n",
        "sns.heatmap(confusion_matrix(Y_test,pre), annot=True, cmap='Blues',fmt=\".0f\")\n",
        "\n",
        "ax.set_xlabel('Predicted labels');ax.set_ylabel('True labels');\n",
        "ax.set_title('Confusion Matrix');\n",
        "ax.xaxis.set_ticklabels(['negative', 'positive']); ax.yaxis.set_ticklabels(['negative', 'positive']);\n",
        "plt.show()"
      ]
    },
    {
      "cell_type": "markdown",
      "metadata": {
        "id": "cqmoxDUUNzyt"
      },
      "source": [
        "#LR model"
      ]
    },
    {
      "cell_type": "code",
      "execution_count": null,
      "metadata": {
        "id": "dv6KcFLTrLTG"
      },
      "outputs": [],
      "source": [
        "!pip install statsmodels\n",
        "!pip install scikit_posthocs\n",
        "import scikit_posthocs as sp"
      ]
    },
    {
      "cell_type": "code",
      "execution_count": null,
      "metadata": {
        "colab": {
          "background_save": true
        },
        "id": "yR2nwVYaJYo5"
      },
      "outputs": [],
      "source": [
        "X_t=pd.DataFrame(X_test)\n",
        "X_t.columns=[\"β{}\".format(i) for i in range(1,X_train.shape[1]+1)]"
      ]
    },
    {
      "cell_type": "code",
      "execution_count": null,
      "metadata": {
        "colab": {
          "background_save": true
        },
        "id": "xQScRTu7zmUt"
      },
      "outputs": [],
      "source": [
        "# importing statsmodels\n",
        "import statsmodels.api as sm\n",
        "# building the model and fitting the data\n",
        "X_=pd.DataFrame(X_train)\n",
        "X_.columns=[\"β{}\".format(i) for i in range(1,X_train.shape[1]+1)]\n",
        "Y_=pd.DataFrame(Y_train)\n",
        "X_=sm.add_constant(X_)\n",
        "log_reg = sm.Logit( Y_,X_).fit()\n",
        "print(log_reg.summary())"
      ]
    },
    {
      "cell_type": "code",
      "execution_count": null,
      "metadata": {
        "id": "kdp-uhPPMKEB"
      },
      "outputs": [],
      "source": [
        "LLfull_model=log_reg.llf;LLfull_model"
      ]
    },
    {
      "cell_type": "code",
      "execution_count": null,
      "metadata": {
        "id": "m02jdxnsASKr"
      },
      "outputs": [],
      "source": [
        "pd.DataFrame(log_reg.summary().tables[0])"
      ]
    },
    {
      "cell_type": "code",
      "execution_count": null,
      "metadata": {
        "id": "IT_QMhlT-5i4"
      },
      "outputs": [],
      "source": [
        "res=pd.DataFrame(log_reg.summary().tables[1])\n",
        "#print(res)\n",
        "col=res.iloc[0,:]\n",
        "index=res.iloc[:,0]"
      ]
    },
    {
      "cell_type": "code",
      "execution_count": null,
      "metadata": {
        "id": "v8TKozmTugfn"
      },
      "outputs": [],
      "source": [
        "res"
      ]
    },
    {
      "cell_type": "markdown",
      "metadata": {
        "id": "CMC-lFctYdez"
      },
      "source": [
        "# new scouers of data"
      ]
    },
    {
      "cell_type": "code",
      "execution_count": null,
      "metadata": {
        "colab": {
          "base_uri": "https://localhost:8080/"
        },
        "id": "YnAOMvR_YhlT",
        "outputId": "0cbf5d25-0486-43d5-a878-6ac96d417b15"
      },
      "outputs": [
        {
          "name": "stdout",
          "output_type": "stream",
          "text": [
            "--2023-05-28 06:41:46--  http://andrewjanowczyk.com/wp-static/IDC_regular_ps50_idx5.zip\n",
            "Resolving andrewjanowczyk.com (andrewjanowczyk.com)... 129.22.136.73\n",
            "Connecting to andrewjanowczyk.com (andrewjanowczyk.com)|129.22.136.73|:80... connected.\n",
            "HTTP request sent, awaiting response... 200 OK\n",
            "Length: 1644892042 (1.5G) [application/zip]\n",
            "Saving to: ‘IDC_regular_ps50_idx5.zip’\n",
            "\n",
            "IDC_regular_ps50_id 100%[===================>]   1.53G  7.62MB/s    in 5m 11s  \n",
            "\n",
            "2023-05-28 06:46:57 (5.04 MB/s) - ‘IDC_regular_ps50_idx5.zip’ saved [1644892042/1644892042]\n",
            "\n"
          ]
        }
      ],
      "source": [
        "!wget   http://andrewjanowczyk.com/wp-static/IDC_regular_ps50_idx5.zip"
      ]
    },
    {
      "cell_type": "code",
      "execution_count": null,
      "metadata": {
        "id": "SkWQPcxxYvV_"
      },
      "outputs": [],
      "source": [
        "!unzip /content/IDC_regular_ps50_idx5.zip -d /content/data"
      ]
    },
    {
      "cell_type": "code",
      "execution_count": null,
      "metadata": {
        "id": "sa-u3hcdcjiK"
      },
      "outputs": [],
      "source": [
        "import glob\n",
        "breast_img = glob.glob('/content/data/**/*.png', recursive = True) # استدعاء الصور من الدرايف\n",
        "import pandas as pd\n",
        "df=pd.DataFrame(breast_img)\n",
        "df.to_csv(\"/content/datapath.csv\")\n"
      ]
    },
    {
      "cell_type": "code",
      "execution_count": null,
      "metadata": {
        "id": "Rl_x9hmac53n"
      },
      "outputs": [],
      "source": [
        "# استدعاء المكاتب\n",
        "import warnings\n",
        "warnings.filterwarnings(\"ignore\")\n",
        "warnings.filterwarnings(\"ignore\", category=UserWarning)\n",
        "warnings.filterwarnings(\"ignore\", category=FutureWarning)\n",
        "import numpy as np # مكتبة جبر\n",
        "import pandas as pd # مكتبة جداول\n",
        "import matplotlib.pyplot as plt # مكتبة رسم\n",
        "%matplotlib inline\n",
        "import seaborn as sns # مكتبة رسم وتنسيق جداول\n",
        "import cv2 # مكتبة معالجة الصور\n",
        "import glob\n",
        "import random\n",
        "from os import listdir\n",
        "from sklearn.metrics import classification_report\n",
        "from tensorflow.keras.models import Sequential # مكتبة الشبكات العصبية\n",
        "from tensorflow.keras.layers import Dense, Conv2D,MaxPooling2D, Flatten, Dropout, BatchNormalization # مكتبة الشبكات العصبية\n",
        "from tensorflow.keras.optimizers import SGD # مكتبة الشبكات العصبية\n",
        "import pandas as pd"
      ]
    },
    {
      "cell_type": "code",
      "execution_count": null,
      "metadata": {
        "id": "XAEGmshqc53n"
      },
      "outputs": [],
      "source": [
        "N_IDC = []   # N_IDC negative IDC غير مصاب\n",
        "P_IDC = []\n",
        "\n",
        "for img in breast_img:\n",
        "    if img[-5] == '0' :\n",
        "        N_IDC.append(img)\n",
        "\n",
        "    elif img[-5] == '1' :\n",
        "        P_IDC.append(img)"
      ]
    },
    {
      "cell_type": "code",
      "execution_count": null,
      "metadata": {
        "id": "XSyYJAuJepjd"
      },
      "outputs": [],
      "source": [
        "print(\"N_IDC\",len(N_IDC))\n",
        "print(\"P_IDC\",len(P_IDC))\n"
      ]
    },
    {
      "cell_type": "code",
      "execution_count": null,
      "metadata": {
        "id": "vy3UgB6rc8tT"
      },
      "outputs": [],
      "source": [
        "import shutil\n",
        "os.mkdir(\"/content/2class data/N\")\n",
        "for i in N_IDC:\n",
        "  name=i.split(\"/\")[-1]\n",
        "  shutil.copyfile(i, \"/content/2class data/N/\"+name)"
      ]
    },
    {
      "cell_type": "code",
      "execution_count": null,
      "metadata": {
        "id": "6PrUhL1sdgap"
      },
      "outputs": [],
      "source": [
        "import shutil\n",
        "os.mkdir(\"/content/2class data/P\")\n",
        "for i in P_IDC:\n",
        "  name=i.split(\"/\")[-1]\n",
        "  shutil.copyfile(i, \"/content/2class data/P/\"+name)"
      ]
    },
    {
      "cell_type": "markdown",
      "metadata": {
        "id": "PVj-d-Cwhr8e"
      },
      "source": [
        "##data Augmantiation"
      ]
    },
    {
      "cell_type": "code",
      "execution_count": null,
      "metadata": {
        "id": "n-V9yDlNf_tz"
      },
      "outputs": [],
      "source": [
        "from keras.preprocessing.image import ImageDataGenerator\n",
        "from tensorflow.keras.utils import img_to_array\n",
        "from tensorflow.keras.preprocessing.image import load_img"
      ]
    },
    {
      "cell_type": "code",
      "execution_count": null,
      "metadata": {
        "id": "DNbtG7nWd4yB"
      },
      "outputs": [],
      "source": [
        "def dataGenerator(type_=\"P\", number=2):\n",
        "\n",
        "    datagen = tf.keras.preprocessing.image.ImageDataGenerator(\n",
        "    rotation_range=40,\n",
        "    width_shift_range=0.2,\n",
        "    height_shift_range=0.2,\n",
        "    shear_range=0.2,\n",
        "    zoom_range=0.2,\n",
        "    fill_mode='nearest',\n",
        "    horizontal_flip=True,\n",
        "    )\n",
        "\n",
        "    for filename in os.listdir(f'/content/2class data/{type_}/'):\n",
        "        if filename.endswith('png'):\n",
        "            img = load_img(f'/content/2class data/{type_}/{filename}')\n",
        "            x = img_to_array(img)\n",
        "            x = x.reshape((1,) + x.shape)\n",
        "\n",
        "            i = 0\n",
        "            for batch in datagen.flow(x, batch_size=1, save_to_dir=f'/content/generate_data/', save_prefix='IMG', save_format='png'):\n",
        "                i += 1\n",
        "                if i == number:\n",
        "                    break\n",
        "\n",
        "dataGenerator()"
      ]
    },
    {
      "cell_type": "code",
      "execution_count": null,
      "metadata": {
        "id": "-WNI_ewXfwvP"
      },
      "outputs": [],
      "source": [
        "def dataGenerator(type_=\"P\", number=2):\n",
        "\n",
        "    datagen = tf.keras.preprocessing.image.ImageDataGenerator(\n",
        "    rotation_range=40,\n",
        "    width_shift_range=0.2,\n",
        "    height_shift_range=0.2,\n",
        "    shear_range=0.2,\n",
        "    zoom_range=0.2,\n",
        "    fill_mode='nearest',\n",
        "    horizontal_flip=True,\n",
        "    )\n",
        "\n",
        "    for i in X_train[index]:\n",
        "      x = x.reshape((1,) + x.shape)\n",
        "      i = 0\n",
        "      for batch in datagen.flow(x, batch_size=1, save_to_dir=f'/content/generate_data/', save_prefix='IMG', save_format='png'):\n",
        "        i += 1\n",
        "        if i == number:\n",
        "          break"
      ]
    },
    {
      "cell_type": "code",
      "execution_count": null,
      "metadata": {
        "id": "KHX9zKRvIGht"
      },
      "outputs": [],
      "source": [
        "non_img_arr = []\n",
        "can_img_arr = []\n",
        "for img in N_IDC:\n",
        "    print(\"N_IDC\",img)\n",
        "    n_img = cv2.imread(img, cv2.IMREAD_COLOR)\n",
        "    n_img_size = cv2.resize(n_img, (50, 50), interpolation = cv2.INTER_LINEAR)\n",
        "    non_img_arr.append([n_img_size, 0])\n",
        "for img in P_IDC:\n",
        "    print(\"P_IDC\",img)\n",
        "    c_img = cv2.imread(img, cv2.IMREAD_COLOR)\n",
        "    c_img_size = cv2.resize(c_img, (50, 50), interpolation = cv2.INTER_LINEAR)\n",
        "    can_img_arr.append([c_img_size, 1])"
      ]
    },
    {
      "cell_type": "code",
      "execution_count": null,
      "metadata": {
        "id": "qbOfZMk8IGhu"
      },
      "outputs": [],
      "source": [
        "X = []\n",
        "y = []\n",
        "\n",
        "breast_img_arr = np.concatenate((non_img_arr, can_img_arr))\n",
        "random.shuffle(breast_img_arr)\n",
        "\n",
        "for feature, label in breast_img_arr:\n",
        "    X.append(feature)\n",
        "    y.append(label)\n",
        "\n",
        "X = np.array(X)\n",
        "y = np.array(y)"
      ]
    },
    {
      "cell_type": "code",
      "execution_count": null,
      "metadata": {
        "id": "HASQqF6XnWLg"
      },
      "outputs": [],
      "source": [
        "import pickle\n",
        "data = {'X': X,\"Y\":y}\n",
        "\n",
        "with open('/content/drive/MyDrive/DCI/new_XY.pickle', 'wb') as handle:\n",
        "    pickle.dump(data, handle, protocol=pickle.HIGHEST_PROTOCOL)"
      ]
    },
    {
      "cell_type": "code",
      "execution_count": null,
      "metadata": {
        "id": "RofFAs9WJj_x"
      },
      "outputs": [],
      "source": [
        "from sklearn.model_selection import train_test_split\n",
        "X_train, X_test, Y_train, Y_test = train_test_split(X, y, test_size=0.2,random_state=10)"
      ]
    },
    {
      "cell_type": "code",
      "execution_count": null,
      "metadata": {
        "colab": {
          "base_uri": "https://localhost:8080/"
        },
        "id": "EpQNE3KdKRaG",
        "outputId": "4c8446b1-51f0-428f-a0b1-a2f30c1b0709"
      },
      "outputs": [
        {
          "data": {
            "text/plain": [
              "array([    17,     24,     54, ..., 221944, 221994, 222018])"
            ]
          },
          "execution_count": 24,
          "metadata": {},
          "output_type": "execute_result"
        }
      ],
      "source": [
        "index=np.where(Y_train==1)[0]\n",
        "index"
      ]
    },
    {
      "cell_type": "code",
      "execution_count": null,
      "metadata": {
        "id": "ZKT_N5ouLASj"
      },
      "outputs": [],
      "source": [
        "datagen = ImageDataGenerator(\n",
        "  rotation_range=40,\n",
        "  #width_shift_range=0.2,\n",
        "  #height_shift_range=0.2,\n",
        "  shear_range=0.2,\n",
        "  #zoom_range=0.2,\n",
        "  fill_mode='nearest',\n",
        "  horizontal_flip=True,\n",
        ")\n",
        "for i in X_train[index]:\n",
        "  img= i.reshape((1,) + i.shape)\n",
        "  aug_iter = datagen.flow(img, batch_size=1)\n",
        "  for i in range(1):\n",
        "    image = next(aug_iter)[0].astype('uint8')\n",
        "    X_train=np.append(image.reshape(1,50,50,3),X_train,axis=0)\n",
        "    Y_train=np.append(1,Y_train)"
      ]
    },
    {
      "cell_type": "code",
      "execution_count": null,
      "metadata": {
        "colab": {
          "base_uri": "https://localhost:8080/"
        },
        "id": "jyWNgz56MK_K",
        "outputId": "b3571ca5-804f-4710-c242-da705d8d2f99"
      },
      "outputs": [
        {
          "data": {
            "text/plain": [
              "(array([0, 1]), array([211927,  14303]))"
            ]
          },
          "execution_count": 27,
          "metadata": {},
          "output_type": "execute_result"
        }
      ],
      "source": [
        "np.unique(Y_train,return_counts=True)"
      ]
    },
    {
      "cell_type": "code",
      "execution_count": null,
      "metadata": {
        "id": "v1QlGE-GOLaR"
      },
      "outputs": [],
      "source": [
        "import pickle\n",
        "data = {\"X_train\":X_train, \"X_test\":X_test, \"Y_train\":Y_train, \"Y_test\":Y_test}\n",
        "\n"
      ]
    },
    {
      "cell_type": "code",
      "execution_count": null,
      "metadata": {
        "id": "tuNlOqmGD8v-"
      },
      "outputs": [],
      "source": [
        "with open('/content/drive/MyDrive/DCI/AUG_train_test_data.pickle', 'wb') as handle:\n",
        "    pickle.dump(data, handle, protocol=pickle.HIGHEST_PROTOCOL)"
      ]
    },
    {
      "cell_type": "code",
      "execution_count": null,
      "metadata": {
        "id": "SgwFQCMnEN4_"
      },
      "outputs": [],
      "source": []
    },
    {
      "cell_type": "code",
      "execution_count": null,
      "metadata": {
        "id": "jrCwnHLyE7Vr"
      },
      "outputs": [],
      "source": [
        "# Load data (deserialize)\n",
        "import pickle\n",
        "with open('/content/drive/MyDrive/DCI/AUG_train_test_data.pickle', 'rb') as handle:\n",
        "    unserialized_data = pickle.load(handle)"
      ]
    },
    {
      "cell_type": "code",
      "execution_count": null,
      "metadata": {
        "id": "fZI2VBghE7Vs"
      },
      "outputs": [],
      "source": [
        "X_train, X_test, Y_train, Y_test = train_test_split(X, y, test_size=0.2,random_state=10)\n",
        "Y_train = to_categorical(Y_train, num_classes = 2)\n",
        "Y_test = to_categorical(Y_test, num_classes = 2)\n"
      ]
    },
    {
      "cell_type": "code",
      "execution_count": null,
      "metadata": {
        "id": "_RRwl-kzE7Vs"
      },
      "outputs": [],
      "source": [
        "model = Sequential()\n",
        "model.add(Conv2D(32, (3, 3),activation='relu', kernel_initializer='he_uniform', padding='same', input_shape=(50, 50, 3)))\n",
        "model.add(BatchNormalization())\n",
        "model.add(Conv2D(32, (3, 3), activation='relu', kernel_initializer='he_uniform', padding='same'))\n",
        "model.add(MaxPooling2D((2, 2)))\n",
        "model.add(BatchNormalization())\n",
        "model.add(Dropout(0.3))\n",
        "model.add(Conv2D(64, (3, 3), activation='relu', kernel_initializer='he_uniform', padding='same'))\n",
        "model.add(BatchNormalization())\n",
        "model.add(Conv2D(64, (3, 3), activation='relu', kernel_initializer='he_uniform', padding='same'))\n",
        "model.add(BatchNormalization())\n",
        "model.add(MaxPooling2D((2, 2)))\n",
        "model.add(Dropout(0.3))\n",
        "model.add(Conv2D(128, (3, 3), activation='relu', kernel_initializer='he_uniform', padding='same'))\n",
        "model.add(Flatten(name='flatt'))\n",
        "model.add(Dense(128, activation='relu', kernel_initializer='he_uniform',name='fc1'))\n",
        "model.add(BatchNormalization())\n",
        "model.add(Dense(64, activation='relu', kernel_initializer='he_uniform',name='fc2'))\n",
        "model.add(BatchNormalization())\n",
        "model.add(Dense(64, activation='relu', kernel_initializer='he_uniform',name='fc3'))\n",
        "model.add(Dropout(0.3))\n",
        "###################################################################################\n",
        "model.add(Dense(24, activation='relu', kernel_initializer='he_uniform',name='fc'))#\n",
        "###################################################################################\n",
        "model.add(Dense(2, activation='softmax'))\n",
        "model.compile(Adam(learning_rate=0.0001), loss='binary_crossentropy', metrics=['accuracy'])"
      ]
    },
    {
      "cell_type": "code",
      "execution_count": null,
      "metadata": {
        "colab": {
          "base_uri": "https://localhost:8080/"
        },
        "id": "u_tNX1cUE7Vt",
        "outputId": "115f1f45-297d-4fef-a094-85059d206169"
      },
      "outputs": [
        {
          "name": "stdout",
          "output_type": "stream",
          "text": [
            "6939/6939 [==============================] - 121s 17ms/step - loss: 0.0698 - accuracy: 0.9743 - val_loss: 0.1042 - val_accuracy: 0.9643\n"
          ]
        }
      ],
      "source": [
        "history = model.fit(X_train, Y_train, validation_data = (X_test, Y_test), epochs = 10)"
      ]
    },
    {
      "cell_type": "markdown",
      "source": [
        "#red_model"
      ],
      "metadata": {
        "id": "X5tTfggsxlW3"
      }
    },
    {
      "cell_type": "code",
      "source": [
        "model = Sequential()\n",
        "model.add(Conv2D(32, (3, 3),activation='relu', kernel_initializer='he_uniform', padding='same', input_shape=(50, 50, 3)))\n",
        "model.add(BatchNormalization())\n",
        "model.add(Conv2D(32, (3, 3), activation='relu', kernel_initializer='he_uniform', padding='same'))\n",
        "model.add(MaxPooling2D((2, 2)))\n",
        "model.add(BatchNormalization())\n",
        "model.add(Dropout(0.3))\n",
        "model.add(Conv2D(64, (3, 3), activation='relu', kernel_initializer='he_uniform', padding='same'))\n",
        "model.add(BatchNormalization())\n",
        "model.add(Conv2D(64, (3, 3), activation='relu', kernel_initializer='he_uniform', padding='same'))\n",
        "model.add(BatchNormalization())\n",
        "model.add(MaxPooling2D((2, 2)))\n",
        "model.add(Dropout(0.3))\n",
        "model.add(Conv2D(128, (3, 3), activation='relu', kernel_initializer='he_uniform', padding='same'))\n",
        "model.add(Flatten(name='flatt'))\n",
        "model.add(Dense(128, activation='relu', kernel_initializer='he_uniform',name='fc1'))\n",
        "model.add(BatchNormalization())\n",
        "model.add(Dense(64, activation='relu', kernel_initializer='he_uniform',name='fc2'))\n",
        "model.add(BatchNormalization())\n",
        "model.add(Dense(64, activation='relu', kernel_initializer='he_uniform',name='fc3'))\n",
        "model.add(Dropout(0.3))\n",
        "###################################################################################\n",
        "model.add(Dense(24, activation='relu', kernel_initializer='he_uniform',name='fc'))#\n",
        "###################################################################################\n",
        "model.add(Dropout(0.3))\n",
        "\n",
        "model.add(Dense(2, activation='softmax'))\n",
        "model.compile(Adam(learning_rate=0.0001), loss='binary_crossentropy', metrics=['accuracy'])"
      ],
      "metadata": {
        "id": "Z7L0Nyarydcx"
      },
      "execution_count": null,
      "outputs": []
    },
    {
      "cell_type": "code",
      "source": [
        "input_shape=(50, 50, 3)\n",
        "def make_index_weights(indexes):\n",
        "    # converting indexes to a list of weights\n",
        "    indexes = [ float(i not in indexes) for i in range(units) ]\n",
        "    # converting indexes from list/numpy to tensor\n",
        "    indexes = tf.convert_to_tensor(indexes)\n",
        "    # reshaping to the correct format\n",
        "    indexes = tf.reshape(indexes, (1, units))\n",
        "    # ensuring it is a float tensor\n",
        "    indexes = tf.cast(indexes, 'float32')\n",
        "    return indexes\n",
        "\n",
        "# layer builder utility\n",
        "def selective_dropout(units, indexes, **kwargs):\n",
        "    indexes = make_index_weights(indexes)\n",
        "    dense = tf.keras.layers.Dense(units, **kwargs)\n",
        "    mul = tf.keras.layers.Multiply()\n",
        "    # return the tensor builder\n",
        "    return lambda inputs: mul([ dense(inputs), indexes ])\n",
        "\n",
        "input_layer = tf.keras.layers.Input(input_shape)\n",
        "conv_1  = conv2d(filters=32, input_shape=input_shape)(input_layer)\n",
        "maxp_1  = max_pool()(conv_1)\n",
        "conv_2  = conv2d(filters=64)(maxp_1)\n",
        "maxp_2  = max_pool()(conv_2)\n",
        "flat    = tf.keras.layers.Flatten()(maxp_2)\n",
        "sel_drop_1 = selective_dropout(512, INDEXES, activation=tf.nn.relu)(flat)\n",
        "dense_2 = tf.keras.layers.Dense(10 if only_digits else 62)(sel_drop_1)\n",
        "output_layer = dense2\n",
        "model = tf.keras.models.Model([ input_layer ], [ output_layer ])\n",
        "return model"
      ],
      "metadata": {
        "id": "3cdxsspJyMOI"
      },
      "execution_count": null,
      "outputs": []
    },
    {
      "cell_type": "code",
      "source": [],
      "metadata": {
        "id": "lvshrH02yYD1"
      },
      "execution_count": null,
      "outputs": []
    },
    {
      "cell_type": "code",
      "source": [],
      "metadata": {
        "id": "0gh05M4AyYGU"
      },
      "execution_count": null,
      "outputs": []
    }
  ],
  "metadata": {
    "colab": {
      "provenance": [],
      "gpuType": "T4",
      "toc_visible": true,
      "mount_file_id": "1TOj_7jw36zTognGl9AB06KP1dof_CQ76",
      "authorship_tag": "ABX9TyPdJViRj3piyJY4NxPtGtYX",
      "include_colab_link": true
    },
    "kernelspec": {
      "display_name": "Python 3",
      "name": "python3"
    },
    "language_info": {
      "name": "python"
    },
    "accelerator": "GPU"
  },
  "nbformat": 4,
  "nbformat_minor": 0
}